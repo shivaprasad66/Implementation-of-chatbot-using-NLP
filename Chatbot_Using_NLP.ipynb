{
 "cells": [
  {
   "cell_type": "markdown",
   "id": "9a7b1245-aa59-4143-9440-fc5007be7aa8",
   "metadata": {},
   "source": [
    "## Importing Libraries"
   ]
  },
  {
   "cell_type": "code",
   "execution_count": 1,
   "id": "f63805f6-6570-4324-a11d-26a1021f518c",
   "metadata": {},
   "outputs": [],
   "source": [
    "import re\n",
    "\n",
    "import nltk\n",
    "import numpy as np\n",
    "import pandas as pd\n",
    "from nltk.corpus import stopwords\n",
    "from nltk.stem import PorterStemmer, WordNetLemmatizer\n",
    "from sklearn.feature_extraction.text import TfidfVectorizer\n",
    "from sklearn.metrics.pairwise import cosine_similarity"
   ]
  },
  {
   "cell_type": "markdown",
   "id": "2f9a0069-f756-48b3-80a2-16b160209b66",
   "metadata": {},
   "source": [
    "## Preprocessing Text"
   ]
  },
  {
   "cell_type": "code",
   "execution_count": 2,
   "id": "dbcb5592-480b-4d5b-9259-4dc2c114ff2b",
   "metadata": {},
   "outputs": [],
   "source": [
    "t = \"\"\"Lorem Ipsum is simply dummy text of the printing and typesetting industry. Lorem Ipsum has been the industry's standard dummy text ever since the 1500s, \n",
    "when an unknown printer took a galley of type and scrambled it to make a type specimen book. It has survived not only five centuries, but also the leap into \n",
    "electronic typesetting, remaining essentially unchanged. It was popularised in the 1960s with the release of Letraset sheets containing Lorem Ipsum passages, \n",
    "and more recently with desktop publishing software like Aldus PageMaker including versions of Lorem Ipsum.\n",
    "\"\"\""
   ]
  },
  {
   "cell_type": "code",
   "execution_count": 1,
   "id": "ad31605e-dbff-4fdd-b4fb-6fb93fd9dc76",
   "metadata": {},
   "outputs": [],
   "source": [
    "def preprocess_without_stopwords(text):\n",
    "    lemmatizer = WordNetLemmatizer()\n",
    "    stemmer = PorterStemmer()\n",
    "    text = re.sub(r\"[^\\w\\s]\", \"\", text)\n",
    "    tokens = nltk.word_tokenize(text.lower())\n",
    "    tokens = [token for token in tokens if token not in stopwords.words(\"english\")]\n",
    "    lemmatized = [lemmatizer.lemmatize(token) for token in tokens]\n",
    "    stemmed = [stemmer.stem(token) for token in lemmatized]\n",
    "    return \" \".join(stemmed)"
   ]
  },
  {
   "cell_type": "code",
   "execution_count": 4,
   "id": "eaebcb7e-f1e4-45f4-bc98-3319e9b29c00",
   "metadata": {},
   "outputs": [
    {
     "data": {
      "text/plain": [
       "'lorem ipsum simpli dummi text print typeset industri lorem ipsum industri standard dummi text ever sinc 1500 unknown printer took galley type scrambl make type specimen book surviv five centuri also leap electron typeset remain essenti unchang popularis 1960 releas letraset sheet contain lorem ipsum passag recent desktop publish softwar like aldu pagemak includ version lorem ipsum'"
      ]
     },
     "execution_count": 4,
     "metadata": {},
     "output_type": "execute_result"
    }
   ],
   "source": [
    "preprocess_without_stopwords(t)"
   ]
  },
  {
   "cell_type": "code",
   "execution_count": 5,
   "id": "00949f6b-adf6-47f1-92ed-21ca3c275e6b",
   "metadata": {},
   "outputs": [],
   "source": [
    "def preprocess_with_stopwords(text):\n",
    "    lemmatizer = WordNetLemmatizer()\n",
    "    stemmer = PorterStemmer()\n",
    "    text = re.sub(r\"[^\\w\\s]\", \"\", text)\n",
    "    tokens = nltk.word_tokenize(text.lower())\n",
    "    lemmatized = [lemmatizer.lemmatize(token) for token in tokens]\n",
    "    stemmed = [stemmer.stem(token) for token in lemmatized]\n",
    "    return \" \".join(stemmed)"
   ]
  },
  {
   "cell_type": "code",
   "execution_count": 6,
   "id": "d4b9439f-d78a-4cf8-b9b6-c121dd98f8ad",
   "metadata": {},
   "outputs": [
    {
     "data": {
      "text/plain": [
       "'lorem ipsum is simpli dummi text of the print and typeset industri lorem ipsum ha been the industri standard dummi text ever sinc the 1500 when an unknown printer took a galley of type and scrambl it to make a type specimen book it ha surviv not onli five centuri but also the leap into electron typeset remain essenti unchang it wa popularis in the 1960 with the releas of letraset sheet contain lorem ipsum passag and more recent with desktop publish softwar like aldu pagemak includ version of lorem ipsum'"
      ]
     },
     "execution_count": 6,
     "metadata": {},
     "output_type": "execute_result"
    }
   ],
   "source": [
    "preprocess_with_stopwords(t)"
   ]
  },
  {
   "cell_type": "markdown",
   "id": "9e4bf8f7-a72d-4f43-bd42-f94a5817580f",
   "metadata": {},
   "source": [
    "## Loading Data for chat bot"
   ]
  },
  {
   "cell_type": "markdown",
   "id": "faa96d04",
   "metadata": {},
   "source": []
  }
 ],
 "metadata": {
  "kernelspec": {
   "display_name": "Python 3",
   "language": "python",
   "name": "python3"
  },
  "language_info": {
   "codemirror_mode": {
    "name": "ipython",
    "version": 3
   },
   "file_extension": ".py",
   "mimetype": "text/x-python",
   "name": "python",
   "nbconvert_exporter": "python",
   "pygments_lexer": "ipython3",
   "version": "3.11.1"
  }
 },
 "nbformat": 4,
 "nbformat_minor": 5
}
